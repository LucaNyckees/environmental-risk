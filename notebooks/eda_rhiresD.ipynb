{
 "cells": [
  {
   "cell_type": "markdown",
   "metadata": {},
   "source": [
    "## EXPLORATORY DATA ANALYSIS"
   ]
  },
  {
   "cell_type": "markdown",
   "metadata": {},
   "source": [
    "### DATASET : RhiresD "
   ]
  },
  {
   "cell_type": "code",
   "execution_count": 30,
   "metadata": {},
   "outputs": [
    {
     "name": "stdout",
     "output_type": "stream",
     "text": [
      "The autoreload extension is already loaded. To reload it, use:\n",
      "  %reload_ext autoreload\n"
     ]
    }
   ],
   "source": [
    "%load_ext autoreload\n",
    "%autoreload 2\n",
    "import netCDF4 as nc\n",
    "import pandas as pd\n",
    "import os\n",
    "import plotly.express as px\n",
    "import plotly.graph_objects as go\n",
    "import sys\n",
    "from pathlib import Path\n",
    "sys.path.append(\"../src\")\n",
    "\n",
    "from paths import DATAPATH\n",
    "from eda import explore_nc_data"
   ]
  },
  {
   "cell_type": "code",
   "execution_count": 31,
   "metadata": {},
   "outputs": [],
   "source": [
    "folder_path = DATAPATH / 'precipitations' / 'raeumliche-klimaanalysen-ncdfs'\n",
    "\n",
    "file_paths = list(map(lambda f: os.path.join(folder_path, f), os.listdir(folder_path)))"
   ]
  },
  {
   "cell_type": "code",
   "execution_count": 32,
   "metadata": {},
   "outputs": [
    {
     "name": "stdout",
     "output_type": "stream",
     "text": [
      "RhiresD_ch01h.swiss.lv95_200508210000_200508230000.nc\n",
      "    variable swiss_lv95_coordinates has shape ()\n",
      "    variable E has shape (370,)\n",
      "    variable N has shape (265,)\n",
      "    variable time has shape (3,)\n",
      "    variable RhiresD has shape (3, 265, 370)\n",
      "    variable lon has shape (265, 370)\n",
      "    variable lat has shape (265, 370)\n"
     ]
    }
   ],
   "source": [
    "f = file_paths[0]\n",
    "\n",
    "print(os.path.basename(f))\n",
    "ds = nc.Dataset(f)\n",
    "explore_nc_data(ds=ds)"
   ]
  },
  {
   "cell_type": "code",
   "execution_count": 33,
   "metadata": {},
   "outputs": [
    {
     "name": "stdout",
     "output_type": "stream",
     "text": [
      "<class 'netCDF4._netCDF4.Dimension'>: name = 'E', size = 370\n",
      "<class 'netCDF4._netCDF4.Dimension'>: name = 'N', size = 265\n",
      "<class 'netCDF4._netCDF4.Dimension'> (unlimited): name = 'time', size = 3\n"
     ]
    }
   ],
   "source": [
    "for d in ds.dimensions.values():\n",
    "    print(d)"
   ]
  },
  {
   "cell_type": "code",
   "execution_count": 34,
   "metadata": {},
   "outputs": [
    {
     "data": {
      "text/plain": [
       "<class 'netCDF4._netCDF4.Variable'>\n",
       "float64 N(N)\n",
       "    units: meters_north\n",
       "    long_name: swiss northing (lv95)\n",
       "    standard_name: projection y coordinate\n",
       "unlimited dimensions: \n",
       "current shape = (265,)\n",
       "filling on, default _FillValue of 9.969209968386869e+36 used"
      ]
     },
     "execution_count": 34,
     "metadata": {},
     "output_type": "execute_result"
    }
   ],
   "source": [
    "ds.variables['']"
   ]
  },
  {
   "cell_type": "code",
   "execution_count": null,
   "metadata": {},
   "outputs": [],
   "source": []
  }
 ],
 "metadata": {
  "kernelspec": {
   "display_name": "Python 3",
   "language": "python",
   "name": "python3"
  },
  "language_info": {
   "codemirror_mode": {
    "name": "ipython",
    "version": 3
   },
   "file_extension": ".py",
   "mimetype": "text/x-python",
   "name": "python",
   "nbconvert_exporter": "python",
   "pygments_lexer": "ipython3",
   "version": "3.11.7"
  }
 },
 "nbformat": 4,
 "nbformat_minor": 2
}
